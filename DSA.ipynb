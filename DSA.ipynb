{
 "cells": [
  {
   "cell_type": "markdown",
   "id": "16fbff35",
   "metadata": {},
   "source": [
    "# Data Structure - Algorithm 01"
   ]
  },
  {
   "cell_type": "markdown",
   "id": "9d7c7a8f-25f0-4228-ac4b-d351746b2cce",
   "metadata": {},
   "source": [
    "## Sorting algorithms"
   ]
  },
  {
   "cell_type": "markdown",
   "id": "c3c367a8",
   "metadata": {},
   "source": [
    "# Data Structure Algorithm 01"
   ]
  },
  {
   "cell_type": "markdown",
   "id": "32bf7c4f",
   "metadata": {},
   "source": [
    "## 01. Array"
   ]
  },
  {
   "cell_type": "markdown",
   "id": "bb9b9bd4",
   "metadata": {},
   "source": [
    "## 02. String"
   ]
  },
  {
   "cell_type": "markdown",
   "id": "26be5271",
   "metadata": {},
   "source": [
    "## 03. Recursion"
   ]
  },
  {
   "cell_type": "markdown",
   "id": "803a8a18",
   "metadata": {},
   "source": [
    "## 04. Sorting"
   ]
  },
  {
   "cell_type": "markdown",
   "id": "a10b477f-4871-48ab-82dc-83775713802e",
   "metadata": {},
   "source": [
    "### Merger sort\n",
    "\n",
    "+ Divide the array into two-halves\n",
    "+ Sort each half\n",
    "+ Then merge the sorted halves back together\n",
    "+ This process is repeated until the entire array is sorted."
   ]
  },
  {
   "cell_type": "markdown",
   "id": "5da8cdf3-49a3-42e9-b4ce-5c021cc32d4f",
   "metadata": {},
   "source": [
    "+ Merge phase:\n",
    "    - Use 2 pointers for the 2 **sorted arrays**\n",
    "    - compare the 2 elements\n",
    "    - put the smaller element into the result & increment the pointer"
   ]
  },
  {
   "cell_type": "code",
   "execution_count": null,
   "id": "620ff638-2685-48bb-9732-57fb650366e2",
   "metadata": {},
   "outputs": [],
   "source": [
    "def merge_sort(arr, left_idx, right_idx):\n",
    "    if (left_idx < right_idx):  # tranh truong hop chuoi 1 ki tu\n",
    "        middle_idx = 1 + (right_idx - left_idx)/2\n",
    "        #\n",
    "        merge_sort(arr, left_idx, middle_idx)\n",
    "        merge_sort(arr, middle_idx, right_idx)\n",
    "        #\n",
    "        merge(arr, left_idx, middle_idx, right_idx)\n",
    "\n",
    "def merge(arr, left_idx, middle_idx, right_idx):\n",
    "    #            create 2 new arrs \n",
    "    length_left_arr = middle_idx - left_idx\n",
    "    length_right_arr = right_idx - middle_idx + 1\n",
    "\n",
    "    left_arr = []\n",
    "    right_arr = []\n",
    "\n",
    "    #             copy arr elements to 2 sub-arrays\n",
    "    for i in range(length_left_arr):\n",
    "        left_arr.append(arr[i])\n",
    "    for j in range(length_rigth_arr):\n",
    "        right_arr.append(arr[middle_idx + j])\n",
    "\n",
    "    #   merge the temp arrays\n",
    "    # initial indices of first and second "
   ]
  },
  {
   "cell_type": "markdown",
   "id": "6c14bb3d",
   "metadata": {},
   "source": [
    "### Quick sort\n",
    "+ Algorithm:\n",
    "    - The array be divided into sub-arrays by selecting a pivot element which selected from the array.\n",
    "    - Vị trí của pivot thỏa mãn:\n",
    "        - các phần tử nhỏ hơn sẽ nằm bên trái\n",
    "        - các phần tử lớn hơn sẽ nằm bên phải\n",
    "    - các sub-arrays cũng sẽ được chia tương tự cho tới khi chỉ còn 1 phần tử trong mảng.\n",
    "\n",
    "+ Partition phase with pivot in details:\n",
    "\n",
    "    ![Pivot pointer in quick sort](./figures/pivot_pointer_quicksort.PNG)"
   ]
  },
  {
   "cell_type": "code",
   "execution_count": null,
   "id": "9ca69b40",
   "metadata": {},
   "outputs": [],
   "source": [
    "def quickSort(arr, left_idx, right_idx):\n",
    "    if (left_idx > right_idx):\n",
    "        return None;\n",
    "    #\n",
    "    partition_idx = partition(arr, left_idx, right_idx)\n",
    "    #\n",
    "    quickSort(arr, left_idx, partition_idx - 1)\n",
    "    quickSort(arr, partition_idx + 1, right_idx)\n",
    "\n",
    "def partition(arr, left_idx, right_idx):\n",
    "    # choosing the pivot \n",
    "    pivot = arr[right_idx]\n",
    "    #\n",
    "    idx = left_idx\n",
    "    j = left_idx\n",
    "    while (j < right_idx):\n",
    "        if arr[j] < pivot:\n",
    "            # swap(arr, idx, )\n",
    "            template_variable = arr[idx]\n",
    "            arr[j] = arr[idx]\n",
    "            \n",
    "        #\n",
    "        j += 1\n"
   ]
  },
  {
   "cell_type": "markdown",
   "id": "806b822a",
   "metadata": {},
   "source": [
    "## 05. Binary search"
   ]
  },
  {
   "cell_type": "markdown",
   "id": "40993207",
   "metadata": {},
   "source": [
    "### Binary Search Algorithm\n",
    "\n",
    "+ Searching algorithm used in a **sorted array** by repeatedly dividing the search interval in half.\n",
    "    - use the sorted array to **reduce the time complexity to O(logN)**\n",
    "\n",
    "+ Conditions:\n",
    "    - **sorted** array\n",
    "    - Access to any element of takes constant time (array, string, list ...)\n",
    "        - Example: Linked list, queue, stack\n",
    "\n",
    "+ Idea:\n",
    "    - divide the seach space into by finding the middle index\n",
    "        - mid = low (high - low)/2\n",
    "    - compare value of the element in the middle with the key:\n",
    "        - arr[mid] == key:\n",
    "            return key\n",
    "        - arr[mid] > key:\n",
    "            high = mid - 1\n",
    "        - arr[mid] < key:\n",
    "            low = mid + 1\n",
    "    - util *low > high*\n",
    "\n",
    "+ Common problems:\n",
    "    - find x in the array\n",
    "    - find the smallest/largest number which is larger/smaller than x in the array\n",
    "    - ..."
   ]
  },
  {
   "cell_type": "code",
   "execution_count": null,
   "id": "721944cb",
   "metadata": {},
   "outputs": [],
   "source": [
    "def binary_search(arr, low, high, x):\n",
    "    while low <= high:\n",
    "        mid = low + (high - low)/2\n",
    "        #\n",
    "        if arr[mid] == x:\n",
    "            return mid\n",
    "        elif arr[mid] < x:\n",
    "            low = mid + 1\n",
    "        else:\n",
    "            high = mid - 1\n",
    "    # return high + 1\n",
    "    return -1"
   ]
  },
  {
   "cell_type": "code",
   "execution_count": null,
   "id": "03fcdcb3",
   "metadata": {},
   "outputs": [],
   "source": [
    "arr = [2, 3, 3, 5, 5, 5, 6, 6]\n",
    "binary_search(arr, 0, len(arr) - 1, 4)"
   ]
  },
  {
   "cell_type": "markdown",
   "id": "bb8daa4d",
   "metadata": {},
   "source": [
    "## 06. Hash table"
   ]
  },
  {
   "cell_type": "markdown",
   "id": "6b858f1a",
   "metadata": {},
   "source": [
    "+ build a data structure to store **<key, value>** pairs for fast *insertion* and *lookup*.\n",
    "\n",
    "+ Array: \n",
    "    - accessing an idx: O(1)\n",
    "+ Hash table:\n",
    "    - {key - value}\n",
    "        - *key*: string, int, double, even objects\n",
    "    - accessing an key: O(1)\n",
    "\n",
    "<!-- + Hash function:\n",
    "\n",
    "    ![hash_function](./figures/hash_function.PNG) -->\n",
    "\n",
    "\n",
    "+ Time complexity:\n",
    "    \n",
    "    ![dicitonary_time_complexity_python](./figures/dicitonary_time_complexity_python.png)"
   ]
  },
  {
   "cell_type": "markdown",
   "id": "661d7f9a",
   "metadata": {},
   "source": [
    "## 07. Linked list"
   ]
  },
  {
   "cell_type": "markdown",
   "id": "9d57b412",
   "metadata": {},
   "source": [
    "+ the elements are not stored at contigous memory locations.\n",
    "    - they are linked using pointers\n",
    "\n",
    "        ![linked_list_structure](./figures/linked_list_structure.png)\n",
    "\n",
    "    - data is the value & next is the address of the following node."
   ]
  },
  {
   "cell_type": "markdown",
   "id": "482e8590",
   "metadata": {},
   "source": [
    "+ Double linked list: similar to the singly linked list.\n",
    "    - contains an extra pointer\n",
    "\n",
    "        ![double_linked_list](./figures/double_linked_list.png)"
   ]
  },
  {
   "cell_type": "markdown",
   "id": "62bfae71",
   "metadata": {},
   "source": [
    "+ Compare Linked list & Array:\n",
    "\n",
    "    ![compare_linked_list-array](./figures/compare_linked_list-array.png)"
   ]
  },
  {
   "cell_type": "markdown",
   "id": "aceccd07",
   "metadata": {},
   "source": [
    "+ Operators\n",
    "    - Access to an element\n",
    "    - Find a value\n",
    "    - Insert a new value\n",
    "    - Delete a value or a node\n",
    "    - Reverse the linked list\n",
    "    - Partition a linked list\n",
    "    - Merge two linked list\n",
    "\n",
    "+ Delete operator with O(1)\n",
    "\n",
    "    ![linked_list_del_operations_O(1)](./figures/linked_list_del_operations_O(1).PNG)"
   ]
  },
  {
   "cell_type": "markdown",
   "id": "901c88d5",
   "metadata": {},
   "source": [
    "+ Traverse and delete\n"
   ]
  },
  {
   "cell_type": "code",
   "execution_count": null,
   "id": "e07f5b48",
   "metadata": {},
   "outputs": [],
   "source": [
    "class Node:\n",
    "    def __init__(self, value) -> None:\n",
    "        self.value = value\n",
    "        self.next = None\n",
    "        self.previous = None\n",
    "\n",
    "\n",
    "class LinkedList:\n",
    "    def __init__(self) -> None:\n",
    "        \"\"\"\n",
    "        Create and initialize LinkedList class instance.\n",
    "        \n",
    "        head -> [data | next]  -> [data | next] -> [data | next] -> Null\n",
    "        \"\"\"\n",
    "        self.head = Node()\n",
    "\n",
    "    def insert(self, value) -> None:\n",
    "        # create new node\n",
    "        new_node = Node(value)\n",
    "        # connect new node to next node\n",
    "        new_node.next = self.head.next\n",
    "        # connect prev node to new node\n",
    "        self.head.next = new_node\n",
    "\n",
    "    def print(self):\n",
    "        node = self.head.next\n",
    "        while node is not None:\n",
    "            print(node.value)\n",
    "            node = node.next\n",
    "\n",
    "    def delete(self, delnode):\n",
    "        node = self.head.next\n",
    "        previous = self.head\n",
    "        #\n",
    "        while node is not None:\n",
    "            if node == delnode:\n",
    "                previous.next = delnode.next\n",
    "                break\n",
    "            previous = node\n",
    "            node = node.next\n",
    "\n",
    "\n",
    "class DoubleLinkedList:\n",
    "    def __init__(self) -> None:\n",
    "        \"\"\"\n",
    "        Create 2 nodes: Head node & Tail node \n",
    "\n",
    "        head -> [data | next]  -> [data | next] -> [data | next] -> Null\n",
    "        \"\"\"\n",
    "        self.head = Node()\n",
    "        self.tail = Node()\n",
    "        self.tail.previous = self.head\n",
    "        self.head.next = self.tail\n",
    "\n",
    "    def insert(self, value):\n",
    "        # (1) Khởi tạo node\n",
    "        new_node = Node(value)\n",
    "        # (2) Node mới chỉ đến vị trí node head đang chỉ tới (tail node)\n",
    "        new_node.next = self.head.next\n",
    "        # (3) tail node := new_node.next\n",
    "        new_node.next.previous = new_node\n",
    "        # (4) Trỏ head node tới new node\n",
    "        self.head.next = new_node\n",
    "        # (5) Trỏ new node quay lại node head.\n",
    "        new_node.previous = self.head\n",
    "\n",
    "    def append(self, value):\n",
    "        # (1) khởi tạo node\n",
    "        new_node = Node(value)\n",
    "        # (2) \n",
    "        new_node.next = self.tail\n",
    "        # (3)\n",
    "        new_node.previous = self.tail.previous\n",
    "        # (4)\n",
    "        new_node.previous.next = new_node\n",
    "        # (5) \n",
    "        self.tail.previous = new_node\n",
    "\n",
    "    def print(self):\n",
    "        node = self.head.next\n",
    "        while node is not None:\n",
    "            print(node.value)\n",
    "            node = node.next \n",
    "\n",
    "    def delete(self, delnode):\n",
    "        \"\"\"\n",
    "        O(1)\n",
    "        \"\"\"\n",
    "        delnode.previous.next = delnode.next\n",
    "        delnode.next.previous = delnode.previous\n",
    "        delnode = None\n"
   ]
  },
  {
   "cell_type": "markdown",
   "id": "422bdaec",
   "metadata": {},
   "source": [
    "# Data Structure Algorithm 02"
   ]
  },
  {
   "cell_type": "markdown",
   "id": "128d1559",
   "metadata": {},
   "source": [
    "## Bit Manipulation"
   ]
  },
  {
   "cell_type": "markdown",
   "id": "a6780b54",
   "metadata": {},
   "source": [
    "### Bitwise Operators\n",
    "    - and (&): \n",
    "        - true khi cả 2 cùng true\n",
    "        - 1 & 1 = 1 \n",
    "        - 0 & X = 0\n",
    "    - or (|):\n",
    "        - true khi một trong 2 true. False khi cả 2 cùng false\n",
    "        - 0 || 0 = 0\n",
    "        - other => 1\n",
    "    - Xor ^:\n",
    "        - true khi 1 trong hai là true. *Tìm vị trí bit khác nhau*\n",
    "        - 0 xor 1 = 1\n",
    "        - X xor X = 0\n",
    "    - not (~):\n",
    "        - !1 = 0\n",
    "        - !0 = 1\n",
    "    - shift right (chia lấy phần nguyên):\n",
    "        - 10101 >> 2 = 101\n",
    "        - n >> x = int(n / (2**x))\n",
    "    - shift left:\n",
    "        - 10101 << 2 = 1010100\n",
    "        - n << x = int(n * (2**x))\n"
   ]
  },
  {
   "cell_type": "markdown",
   "id": "1aa86459",
   "metadata": {},
   "source": [
    "### Basic bit manipulation"
   ]
  },
  {
   "cell_type": "code",
   "execution_count": null,
   "id": "ab907573",
   "metadata": {},
   "outputs": [],
   "source": [
    "class BitManipulation():\n",
    "    def __init__(self, mask) -> None:\n",
    "        self.mask = mask\n",
    "\n",
    "    def set(self, i):\n",
    "        \"\"\"\n",
    "        set bit i-th by 1 (or operation)\n",
    "        \"\"\"\n",
    "        return self.mask | (1 << i)\n",
    "\n",
    "    def clear(self, i):\n",
    "        \"\"\"\n",
    "        set bit i-th by 0 (or operation)\n",
    "        NOTE: ~ (1) = 0\n",
    "        \"\"\"\n",
    "        return self.mask & (~ (1 << i))\n",
    "    \n",
    "    def toggle(self, i):\n",
    "        \"\"\"\n",
    "        lật bit\n",
    "        \"\"\"\n",
    "        return self.mask ^ (1 << i)\n",
    "    \n",
    "    def get(self, i):\n",
    "        \"\"\"\n",
    "        get bit value at index i-th\n",
    "        \"\"\"\n",
    "        return (self.mask >> i) & 1 == 1\n",
    "\n",
    "    def count(self):\n",
    "        return self.mask.bit_count()\n",
    "    \n",
    "    def isOdd(self):\n",
    "        \"\"\" \n",
    "        check số lẻ\n",
    "        \"\"\"\n",
    "        return self.mask & 1 == 1\n",
    "    \n",
    "    def isEven(self):\n",
    "        return self.mask & 1 == 0\n",
    "    \n",
    "    def power2(self, n):\n",
    "        return self.mask << n\n",
    "    \n",
    "    def isPower2(self, n):\n",
    "        \"\"\" \n",
    "        Kiểm tra một số có phải 2**n không\n",
    "        \"\"\"\n",
    "        return n & (n - 1) == 0"
   ]
  },
  {
   "cell_type": "code",
   "execution_count": 11,
   "id": "6d1c0a1d",
   "metadata": {},
   "outputs": [
    {
     "name": "stdout",
     "output_type": "stream",
     "text": [
      "29\n",
      "20\n",
      "True\n"
     ]
    }
   ],
   "source": [
    "mask_value = 21 # 10101\n",
    "bit_manipulation_obj = BitManipulation(mask_value)\n",
    "print(bit_manipulation_obj.set(3))\n",
    "print(bit_manipulation_obj.clear(0))\n",
    "print(bit_manipulation_obj.isOdd())\n"
   ]
  },
  {
   "cell_type": "code",
   "execution_count": 41,
   "id": "e076189c",
   "metadata": {},
   "outputs": [],
   "source": [
    "def get_bit_value(numb: int, idx_bit: int):\n",
    "    if (numb >> idx_bit) & 1 == 1:\n",
    "        return 1\n",
    "    else:\n",
    "        return 0\n",
    "\n",
    "def minFlips(a: int, b: int, c: int) -> int:\n",
    "    idx = 0\n",
    "    count = 0\n",
    "    while (self.get_bit_value(a, idx) + self.get_bit_value(b, idx) + self.get_bit_value(c, idx) != 0):\n",
    "        # \n",
    "        if self.get_bit_value(a, idx) == 0 and self.get_bit_value(b, idx) == 0 and self.get_bit_value(c, idx) == 1:\n",
    "            count += 1\n",
    "        if (self.get_bit_value(a, idx) == 0 and self.get_bit_value(b, idx) == 0) and self.get_bit_value(c, idx) == 0:\n",
    "            continue\n",
    "        if self.get_bit_value(a, idx) == 1 and self.get_bit_value(b, idx) == 1 and self.get_bit_value(c, idx) == 0:\n",
    "            count += 2\n",
    "        else:\n",
    "            count += 1\n",
    "        idx += 1\n",
    "        \n",
    "    return count"
   ]
  },
  {
   "cell_type": "code",
   "execution_count": 40,
   "id": "e4266303",
   "metadata": {},
   "outputs": [
    {
     "name": "stdout",
     "output_type": "stream",
     "text": [
      "0 0 1\n",
      "1 1 0\n",
      "0 1 1\n",
      "5\n"
     ]
    }
   ],
   "source": [
    "tmp = minFlips(2, 6, 5)\n",
    "print(tmp)"
   ]
  },
  {
   "cell_type": "markdown",
   "id": "544d0a36",
   "metadata": {},
   "source": [
    "+ **Hãy nghĩ trên từng bit một**"
   ]
  },
  {
   "cell_type": "markdown",
   "id": "e8e17887",
   "metadata": {},
   "source": [
    "## Tree"
   ]
  },
  {
   "cell_type": "markdown",
   "id": "75d41a64",
   "metadata": {},
   "source": [
    "+ Binary tree:\n",
    "    - cây mà mỗi node có tối đa 2 node con\n",
    "    - nếu h - height => max_number_of_nodes = 2**h - 1\n",
    "\n",
    "+ Binary tree - full:\n",
    "    - each node has either 0 or 2 children\n",
    "    - số lượng node lá = số lượng node không phải lá + 1\n",
    "\n",
    "+ **QUAN TRỌNG** Cây complete:\n",
    "    - mỗi hàng đều có đầy đủ notes\n",
    "    - trừ hàng cuối cùng lệch bên trái đầy đủ\n",
    "\n",
    "+ Cây cân bằng:\n",
    "    - nếu mỗi node có độ cao của 2 sub-tree không nhiều hơn 1.\n",
    "\n",
    "=> sẽ có các thuật toán mà độ phức tạp phụ thuộc vào độ cao của cây."
   ]
  },
  {
   "cell_type": "markdown",
   "id": "ac9399c9",
   "metadata": {},
   "source": []
  },
  {
   "cell_type": "markdown",
   "id": "716fcdc7",
   "metadata": {},
   "source": [
    "+ Mảng để lưu binary tree:\n",
    "![array_represent_binary_tree](./figures/array_represent_binary_tree.PNG)\n",
    "\n",
    "=> [3, 1, 5, X, X, 4, 8]\n",
    "\n",
    "! Nhược: phí bộ nhớ\n",
    "![nhuoc diem luu tru bang mang](./figures/nhuoc_diem_luu_tru_arr.PNG)\n",
    "\n",
    "+ Con trỏ đê lưu binary tree:\n",
    "    - nếu cây full\n",
    "\n",
    "\n",
    "+ Con muốn tìm cha:\n",
    "    - con lẻ: (index - 1) / 2\n",
    "    - con chẵn: (index - 2) / 2"
   ]
  },
  {
   "cell_type": "code",
   "execution_count": null,
   "id": "8904e4ff",
   "metadata": {},
   "outputs": [],
   "source": [
    "class TreeNode:\n",
    "    def __init__(self, value=0, left=None, right=None) -> None:\n",
    "        self.value = value\n",
    "        self.left = left\n",
    "        self.right = right"
   ]
  },
  {
   "cell_type": "markdown",
   "id": "acd621e5",
   "metadata": {},
   "source": [
    "### Binary Search Tree\n",
    "\n",
    "+ độ phức tạp thuật toán: O(h)\n",
    "\n",
    "+ nếu là cây cân bằng: O(logN)\n",
    "\n",
    "![binary_search_tree](./figures/binary_search_tree.PNG)"
   ]
  },
  {
   "cell_type": "markdown",
   "id": "f0035aa9",
   "metadata": {},
   "source": [
    "### Tree traveral\n",
    "\n",
    "+ The process of visiting each node in a tree in some specific order.\n",
    "    - **NOTE** thường được ứng dụng trong việc truyền theo thứ tự từ cha -> con\n",
    "\n",
    "+ Pre-order traveral:\n",
    "    - visit each node before its children\n",
    "+ Post-order traveral:\n",
    "    - visit each node after its children\n",
    "+ In-order traversal (only for binary tree): \n",
    "    - visit each node between its left and right children"
   ]
  },
  {
   "cell_type": "markdown",
   "id": "f20e8e29",
   "metadata": {},
   "source": [
    "+ **Breadth-First Search** có thể ứng dụng cho tree"
   ]
  },
  {
   "cell_type": "markdown",
   "id": "05178e5a",
   "metadata": {},
   "source": [
    "## Linked list"
   ]
  },
  {
   "cell_type": "markdown",
   "id": "611fcb80",
   "metadata": {},
   "source": [
    "+ Single linked list\n",
    "\n",
    "+ Double linked list\n",
    "\n",
    "+ Linked list vs array.\n",
    "    - **Hỏi lý thuyêt**\n",
    "        - độ phức tạp\n",
    "    - linked list luu dia chi pointer (over head)\n",
    "\n",
    "    ![Linked list vs array](./figures/array_linkedlist.PNG)\n"
   ]
  },
  {
   "cell_type": "markdown",
   "id": "f39fcee8",
   "metadata": {},
   "source": [
    "+ Operators\n",
    "\n",
    "    ![Linked list's operators](./figures/linked_list_operator.PNG)"
   ]
  },
  {
   "cell_type": "code",
   "execution_count": null,
   "id": "7207adc3",
   "metadata": {},
   "outputs": [],
   "source": [
    "class LinkedList:\n",
    "    def __init__(self) -> None:\n",
    "        # Node: head & value\n",
    "        self.__head__ = Node()\n",
    "        # self.__tail = Node()\n",
    "        # self.__head__.next = new_node\n",
    "\n",
    "    def insert(self, value):\n",
    "        # tao node moi voi gia tri\n",
    "        new_node = Node(value)\n",
    "        # trỏ head của node vừa tạo tới node tiếp theo.\n",
    "        new_node.next = self.__head__.next\n",
    "        # trỏ head của node trước đó tới node mới tạo\n",
    "        self.__head__.next = new_node\n",
    "\n"
   ]
  },
  {
   "cell_type": "markdown",
   "id": "f1e91ad7",
   "metadata": {},
   "source": [
    "## Disjoint set/union find"
   ]
  },
  {
   "cell_type": "markdown",
   "id": "08112340",
   "metadata": {},
   "source": [
    "+ keeps track of a set of elements partitioned (phân vùng) into a number ò disjoint (non-overlapping) subsets\n",
    "\n",
    "+ Operations:\n",
    "    - find(x): return the set *x* belongs to\n",
    "    - union(x, y): union the group contains *x* and *y*\n",
    "\n",
    "+ Idea:\n",
    "    - structure the elements in a set as a tree. \n",
    "        - chọn 1 nút làm đại diện cho set\n",
    "        - nut này đóng vai trò là root-node. Các phần tử khác kết nối với node này.\n",
    "    - find(x): di chuyển từ node x tới root-node của nhánh/cây chứa x\n",
    "    - union(x, y): gọi *find(x)* & *find(y)* nhằm tìm ra root-node chung"
   ]
  }
 ],
 "metadata": {
  "kernelspec": {
   "display_name": "base",
   "language": "python",
   "name": "python3"
  },
  "language_info": {
   "codemirror_mode": {
    "name": "ipython",
    "version": 3
   },
   "file_extension": ".py",
   "mimetype": "text/x-python",
   "name": "python",
   "nbconvert_exporter": "python",
   "pygments_lexer": "ipython3",
   "version": "3.12.7"
  }
 },
 "nbformat": 4,
 "nbformat_minor": 5
}
