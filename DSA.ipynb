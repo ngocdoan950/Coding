{
 "cells": [
  {
   "cell_type": "markdown",
   "id": "16fbff35",
   "metadata": {},
   "source": [
    "# Data Structure - Algorithm 01"
   ]
  },
  {
   "cell_type": "markdown",
   "id": "9d7c7a8f-25f0-4228-ac4b-d351746b2cce",
   "metadata": {},
   "source": [
    "## Sorting algorithms"
   ]
  },
  {
   "cell_type": "markdown",
   "id": "a10b477f-4871-48ab-82dc-83775713802e",
   "metadata": {},
   "source": [
    "### Merger sort\n",
    "\n",
    "+ Divide the array into two-halves\n",
    "+ Sort each half\n",
    "+ Then merge the sorted halves back together\n",
    "+ This process is repeated until the entire array is sorted."
   ]
  },
  {
   "cell_type": "markdown",
   "id": "5da8cdf3-49a3-42e9-b4ce-5c021cc32d4f",
   "metadata": {},
   "source": [
    "+ Merge phase:\n",
    "    - Use 2 pointers for the 2 **sorted arrays**\n",
    "    - compare the 2 elements\n",
    "    - put the smaller element into the result & increment the pointer"
   ]
  },
  {
   "cell_type": "code",
   "execution_count": null,
   "id": "620ff638-2685-48bb-9732-57fb650366e2",
   "metadata": {},
   "outputs": [],
   "source": [
    "def merge_sort(arr, left_idx, right_idx):\n",
    "    if (left_idx < right_idx):  # tranh truong hop chuoi 1 ki tu\n",
    "        middle_idx = 1 + (right_idx - left_idx)/2\n",
    "        #\n",
    "        merge_sort(arr, left_idx, middle_idx)\n",
    "        merge_sort(arr, middle_idx, right_idx)\n",
    "        #\n",
    "        merge(arr, left_idx, middle_idx, right_idx)\n",
    "\n",
    "def merge(arr, left_idx, middle_idx, right_idx):\n",
    "    #            create 2 new arrs \n",
    "    length_left_arr = middle_idx - left_idx\n",
    "    length_right_arr = right_idx - middle_idx + 1\n",
    "\n",
    "    left_arr = []\n",
    "    right_arr = []\n",
    "\n",
    "    #             copy arr elements to 2 sub-arrays\n",
    "    for i in range(length_left_arr):\n",
    "        left_arr.append(arr[i])\n",
    "    for j in range(length_rigth_arr):\n",
    "        right_arr.append(arr[middle_idx + j])\n",
    "\n",
    "    #   merge the temp arrays\n",
    "    # initial indices of first and second "
   ]
  },
  {
   "cell_type": "markdown",
   "id": "6c14bb3d",
   "metadata": {},
   "source": [
    "### Quick sort\n",
    "+ Algorithm:\n",
    "    - The array be divided into sub-arrays by selecting a pivot element which selected from the array.\n",
    "    - Vị trí của pivot thỏa mãn:\n",
    "        - các phần tử nhỏ hơn sẽ nằm bên trái\n",
    "        - các phần tử lớn hơn sẽ nằm bên phải\n",
    "    - các sub-arrays cũng sẽ được chia tương tự cho tới khi chỉ còn 1 phần tử trong mảng.\n",
    "\n",
    "+ Partition phase with pivot in details:\n",
    "\n",
    "    ![Pivot pointer in quick sort](./figures/pivot_pointer_quicksort.PNG)"
   ]
  },
  {
   "cell_type": "code",
   "execution_count": null,
   "id": "9ca69b40",
   "metadata": {},
   "outputs": [],
   "source": [
    "def quickSort(arr, left_idx, right_idx):\n",
    "    if (left_idx > right_idx):\n",
    "        return None;\n",
    "    #\n",
    "    partition_idx = partition(arr, left_idx, right_idx)\n",
    "    #\n",
    "    quickSort(arr, left_idx, partition_idx - 1)\n",
    "    quickSort(arr, partition_idx + 1, right_idx)\n",
    "\n",
    "def partition(arr, left_idx, right_idx):\n",
    "    # choosing the pivot \n",
    "    pivot = arr[right_idx]\n",
    "    #\n",
    "    idx = left_idx\n",
    "    j = left_idx\n",
    "    while (j < right_idx):\n",
    "        if arr[j] < pivot:\n",
    "            # swap(arr, idx, )\n",
    "            template_variable = arr[idx]\n",
    "            arr[j] = arr[idx]\n",
    "            \n",
    "        #\n",
    "        j += 1\n"
   ]
  },
  {
   "cell_type": "markdown",
   "id": "40993207",
   "metadata": {},
   "source": [
    "## Binary Search Algorithm\n",
    "\n",
    "+ Searching algorithm used in a **sorted array** by repeatedly dividing the search interval in half.\n",
    "    - use the sorted array to **reduce the time complexity to O(logN)**\n",
    "\n",
    "+ Conditions:\n",
    "    - **sorted** array\n",
    "    - Access to any element of takes constant time (array, string, list ...)\n",
    "        - Example: Linked list, queue, stack\n",
    "\n",
    "+ Idea:\n",
    "    - divide the seach space into by finding the middle index\n",
    "        - mid = low (high - low)/2\n",
    "    - compare value of the element in the middle with the key:\n",
    "        - arr[mid] == key:\n",
    "            return key\n",
    "        - arr[mid] > key:\n",
    "            high = mid - 1\n",
    "        - arr[mid] < key:\n",
    "            low = mid + 1\n",
    "    - util *low > high*\n",
    "\n",
    "+ Common problems:\n",
    "    - find x in the array\n",
    "    - find the smallest/largest number which is larger/smaller than x in the array\n",
    "    - ..."
   ]
  },
  {
   "cell_type": "code",
   "execution_count": null,
   "id": "721944cb",
   "metadata": {},
   "outputs": [],
   "source": [
    "def binary_search(arr, low, high, x):\n",
    "    while low <= high:\n",
    "        mid = low + (high - low)/2\n",
    "        #\n",
    "        if arr[mid] == x:\n",
    "            return mid\n",
    "        elif arr[mid] < x:\n",
    "            low = mid + 1\n",
    "        else:\n",
    "            high = mid - 1\n",
    "    # return high + 1\n",
    "    return -1"
   ]
  },
  {
   "cell_type": "code",
   "execution_count": null,
   "id": "03fcdcb3",
   "metadata": {},
   "outputs": [],
   "source": [
    "arr = [2, 3, 3, 5, 5, 5, 6, 6]\n",
    "binary_search(arr, 0, len(arr) - 1, 4)"
   ]
  },
  {
   "cell_type": "markdown",
   "id": "6b858f1a",
   "metadata": {},
   "source": [
    "## Hash table\n",
    "\n",
    "+ Array: \n",
    "    - accessing an idx: O(1)\n",
    "+ Hash table:\n",
    "    - {key - value}\n",
    "    - accessing an key: O(1)\n",
    "\n",
    "+ Hash function:\n",
    "\n",
    "    ![hash_function](./figures/hash_function.PNG)"
   ]
  },
  {
   "cell_type": "markdown",
   "id": "da03517b",
   "metadata": {},
   "source": [
    "+ Collision resolution problem\n",
    "    - Solution 1: Linear probing\n",
    "\n"
   ]
  },
  {
   "cell_type": "markdown",
   "id": "422bdaec",
   "metadata": {},
   "source": [
    "# Data Structure - Algorithm 02"
   ]
  },
  {
   "cell_type": "markdown",
   "id": "e8e17887",
   "metadata": {},
   "source": [
    "## Tree"
   ]
  },
  {
   "cell_type": "markdown",
   "id": "75d41a64",
   "metadata": {},
   "source": [
    "+ **QUAN TRỌNG** Cây complete:\n",
    "    - mỗi hàng đều có đầy đủ notes\n",
    "    - trừ hàng cuối cùng lệch bên trái đầy đủ\n",
    "    - \n",
    "![binary tree complete](./figures/binary_tree_complete_01.PNG)"
   ]
  },
  {
   "cell_type": "markdown",
   "id": "ac9399c9",
   "metadata": {},
   "source": [
    "+ Cây cân bằng:\n",
    "    - nếu mỗi node có độ cao của 2 sub-tree không nhiều hơn 1."
   ]
  },
  {
   "cell_type": "markdown",
   "id": "716fcdc7",
   "metadata": {},
   "source": [
    "+ Mảng để lưu binary tree:\n",
    "![array_represent_binary_tree](./figures/array_represent_binary_tree.PNG)\n",
    "\n",
    "=> [3, 1, 5, X, X, 4, 8]\n",
    "\n",
    "! Nhược: phí bộ nhớ\n",
    "![nhuoc diem luu tru bang mang](./figures/nhuoc_diem_luu_tru_arr.PNG)\n",
    "\n",
    "+ Con trỏ đê lưu binary tree:\n",
    "    - nếu cây full\n",
    "\n",
    "\n",
    "+ Con muốn tìm cha:\n",
    "    - con lẻ: (index - 1) / 2\n",
    "    - con chẵn: (index - 2) / 2"
   ]
  },
  {
   "cell_type": "markdown",
   "id": "acd621e5",
   "metadata": {},
   "source": [
    "## Binary Search Tree\n",
    "\n",
    "\n",
    "![binary_search_tree](./figures/binary_search_tree.PNG)"
   ]
  },
  {
   "cell_type": "markdown",
   "id": "05178e5a",
   "metadata": {},
   "source": [
    "## Linked list"
   ]
  },
  {
   "cell_type": "markdown",
   "id": "611fcb80",
   "metadata": {},
   "source": [
    "+ Single linked list\n",
    "\n",
    "+ Double linked list\n",
    "\n",
    "+ Linked list vs array.\n",
    "    - **Hỏi lý thuyêt**\n",
    "        - độ phức tạp\n",
    "    - linked list luu dia chi pointer (over head)\n",
    "\n",
    "    ![Linked list vs array](./figures/array_linkedlist.PNG)\n"
   ]
  },
  {
   "cell_type": "markdown",
   "id": "f39fcee8",
   "metadata": {},
   "source": [
    "+ Operators\n",
    "\n",
    "    ![Linked list's operators](./figures/linked_list_operator.PNG)"
   ]
  },
  {
   "cell_type": "code",
   "execution_count": null,
   "id": "7207adc3",
   "metadata": {},
   "outputs": [],
   "source": [
    "class LinkedList:\n",
    "    def __init__(self) -> None:\n",
    "        # Node: head & value\n",
    "        self.__head__ = Node()\n",
    "        # self.__tail = Node()\n",
    "        # self.__head__.next = new_node\n",
    "\n",
    "    def insert(self, value):\n",
    "        # tao node moi voi gia tri\n",
    "        new_node = Node(value)\n",
    "        # trỏ head của node vừa tạo tới node tiếp theo.\n",
    "        new_node.next = self.__head__.next\n",
    "        # trỏ head của node trước đó tới node mới tạo\n",
    "        self.__head__.next = new_node\n",
    "\n"
   ]
  }
 ],
 "metadata": {
  "kernelspec": {
   "display_name": "base",
   "language": "python",
   "name": "python3"
  },
  "language_info": {
   "codemirror_mode": {
    "name": "ipython",
    "version": 3
   },
   "file_extension": ".py",
   "mimetype": "text/x-python",
   "name": "python",
   "nbconvert_exporter": "python",
   "pygments_lexer": "ipython3",
   "version": "3.12.7"
  }
 },
 "nbformat": 4,
 "nbformat_minor": 5
}
